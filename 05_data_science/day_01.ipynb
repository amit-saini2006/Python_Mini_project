{
 "cells": [
  {
   "cell_type": "markdown",
   "id": "a5251d57",
   "metadata": {},
   "source": [
    "### welcome to python notebook\n",
    "### Day 1\n",
    "\n",
    "This is where you can write your notes"
   ]
  },
  {
   "cell_type": "code",
   "execution_count": 3,
   "id": "fdde52e0",
   "metadata": {},
   "outputs": [
    {
     "name": "stdout",
     "output_type": "stream",
     "text": [
      "Hello world!\n"
     ]
    }
   ],
   "source": [
    "print(\"Hello world!\")"
   ]
  },
  {
   "cell_type": "code",
   "execution_count": 4,
   "id": "1f6d5472",
   "metadata": {},
   "outputs": [
    {
     "name": "stdout",
     "output_type": "stream",
     "text": [
      "This value is 0\n",
      "This value is 1\n",
      "This value is 2\n",
      "This value is 3\n",
      "This value is 4\n"
     ]
    }
   ],
   "source": [
    "for i in range(5):\n",
    "    print(f\"This value is {i}\")"
   ]
  }
 ],
 "metadata": {
  "kernelspec": {
   "display_name": ".venv",
   "language": "python",
   "name": "python3"
  },
  "language_info": {
   "codemirror_mode": {
    "name": "ipython",
    "version": 3
   },
   "file_extension": ".py",
   "mimetype": "text/x-python",
   "name": "python",
   "nbconvert_exporter": "python",
   "pygments_lexer": "ipython3",
   "version": "3.13.5"
  }
 },
 "nbformat": 4,
 "nbformat_minor": 5
}
